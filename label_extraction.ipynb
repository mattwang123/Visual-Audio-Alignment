{
 "cells": [
  {
   "cell_type": "code",
   "execution_count": null,
   "metadata": {},
   "outputs": [],
   "source": [
    "import pandas as pd"
   ]
  },
  {
   "cell_type": "code",
   "execution_count": null,
   "metadata": {},
   "outputs": [],
   "source": [
    "# Initialize a list to store the parsed data\n",
    "annotations = []\n",
    "\n",
    "# Read the file line by line\n",
    "with open('annotations.txt', 'r') as file:\n",
    "    # Skip the header line\n",
    "    next(file)\n",
    "    for line in file:\n",
    "        # Split the line into components\n",
    "        parts = line.strip().split('&')\n",
    "        if len(parts) == 5:  # Ensure the line has all 5 fields\n",
    "            category, video_id, quality, start_time, end_time = parts\n",
    "            annotations.append({\n",
    "                'Category': category,\n",
    "                'VideoID': video_id,\n",
    "                'Quality': quality,\n",
    "                'StartTime': float(start_time),\n",
    "                'EndTime': float(end_time)\n",
    "            })\n",
    "\n",
    "# Convert the list of dictionaries into a DataFrame\n",
    "df = pd.DataFrame(annotations)\n",
    "\n",
    "# Display the first few rows of the DataFrame\n",
    "print(df.head())\n",
    "\n",
    "# Optional: Filter only 'good' quality samples\n",
    "good_quality_df = df[df['Quality'] == 'good']\n",
    "print(good_quality_df.head())"
   ]
  }
 ],
 "metadata": {
  "kernelspec": {
   "display_name": "Python 3",
   "language": "python",
   "name": "python3"
  },
  "language_info": {
   "name": "python",
   "version": "3.12.8"
  }
 },
 "nbformat": 4,
 "nbformat_minor": 2
}
