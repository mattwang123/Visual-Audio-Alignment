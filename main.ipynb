{
 "cells": [
  {
   "cell_type": "code",
   "execution_count": null,
   "id": "484458e1",
   "metadata": {},
   "outputs": [
    {
     "name": "stderr",
     "output_type": "stream",
     "text": [
      "Processing videos:   0%|                                                      | 0/2 [00:00<?, ?it/s]"
     ]
    },
    {
     "name": "stderr",
     "output_type": "stream",
     "text": [
      "OpenCV: Couldn't read video stream from file \"/Users/ruyutong/Desktop/generated_samples/GqFSNyW1Iis_0.00_2.77_bad_mute.mp4\"\n",
      "OpenCV: Couldn't read video stream from file \"/Users/ruyutong/Desktop/generated_samples/2lbpnXbGVmA_0.00_5.75_bad_mute.mp4\"\n",
      "OpenCV: Couldn't read video stream from file \"/Users/ruyutong/Desktop/generated_samples/2GiByKtqQzg_8.58_10.00_bad_time_shift.mp4\"\n",
      "OpenCV: Couldn't read video stream from file \"/Users/ruyutong/Desktop/generated_samples/Fdg3aRYUabY_0.00_1.00_bad_mute.mp4\"\n",
      "Processing videos:  50%|███████████████████████                       | 1/2 [00:09<00:09,  9.64s/it]"
     ]
    },
    {
     "name": "stdout",
     "output_type": "stream",
     "text": [
      "Finished processing: -_6ONBcE92A\n"
     ]
    },
    {
     "name": "stderr",
     "output_type": "stream",
     "text": [
      "OpenCV: Couldn't read video stream from file \"/Users/ruyutong/Desktop/generated_samples/-CYQmz5rlOA_4.22_7.61_bad_mute.mp4\"\n",
      "OpenCV: Couldn't read video stream from file \"/Users/ruyutong/Desktop/generated_samples/0zz6Hz52uHs_1.22_3.00_bad_time_shift.mp4\"\n",
      "OpenCV: Couldn't read video stream from file \"/Users/ruyutong/Desktop/generated_samples/-_9pg2ryrx4_8.83_10.00_bad_distort.mp4\"\n",
      "OpenCV: Couldn't read video stream from file \"/Users/ruyutong/Desktop/generated_samples/2BNnBRomt2k_6.19_8.22_bad_time_shift.mp4\"\n",
      "OpenCV: Couldn't read video stream from file \"/Users/ruyutong/Desktop/generated_samples/26BA6rIKjvk_6.00_7.00_bad_time_shift.mp4\"\n",
      "OpenCV: Couldn't read video stream from file \"/Users/ruyutong/Desktop/generated_samples/-_9pg2ryrx4_0.00_2.72_bad_mute.mp4\"\n",
      "OpenCV: Couldn't read video stream from file \"/Users/ruyutong/Desktop/generated_samples/-SA7KkTZVLg_7.46_10.00_bad_mute.mp4\"\n",
      "OpenCV: Couldn't read video stream from file \"/Users/ruyutong/Desktop/generated_samples/6j4AVcAdhEg_5.00_6.14_bad_time_shift.mp4\"\n",
      "OpenCV: Couldn't read video stream from file \"/Users/ruyutong/Desktop/generated_samples/8-sPfzsLr2k_6.77_7.81_bad_time_shift.mp4\"\n",
      "OpenCV: Couldn't read video stream from file \"/Users/ruyutong/Desktop/generated_samples/5CC4RUxyCCI_9.00_10.00_bad_time_shift.mp4\"\n",
      "OpenCV: Couldn't read video stream from file \"/Users/ruyutong/Desktop/generated_samples/6OItIlBb3HE_8.52_10.00_bad_time_shift.mp4\"\n",
      "OpenCV: Couldn't read video stream from file \"/Users/ruyutong/Desktop/generated_samples/-KWCA1xtWMw_0.00_3.46_bad_mute.mp4\"\n",
      "OpenCV: Couldn't read video stream from file \"/Users/ruyutong/Desktop/generated_samples/-8RuvUaOmz4_7.00_8.14_bad_time_shift.mp4\"\n",
      "OpenCV: Couldn't read video stream from file \"/Users/ruyutong/Desktop/generated_samples/2FV62F09ICM_8.86_10.00_bad_distort.mp4\"\n",
      "OpenCV: Couldn't read video stream from file \"/Users/ruyutong/Desktop/generated_samples/3mVON9vvYsA_7.01_8.07_bad_time_shift.mp4\"\n",
      "OpenCV: Couldn't read video stream from file \"/Users/ruyutong/Desktop/generated_samples/-PP5Hx17amY_8.87_10.00_bad_distort.mp4\"\n",
      "OpenCV: Couldn't read video stream from file \"/Users/ruyutong/Desktop/generated_samples/1xKLPsJx7E0_8.04_10.00_bad_time_shift.mp4\"\n",
      "OpenCV: Couldn't read video stream from file \"/Users/ruyutong/Desktop/generated_samples/A5o4-vMEWMM_8.35_10.00_bad_distort.mp4\"\n",
      "OpenCV: Couldn't read video stream from file \"/Users/ruyutong/Desktop/generated_samples/SK9DGzNEKb0_0.00_1.93_bad_mute.mp4\"\n",
      "OpenCV: Couldn't read video stream from file \"/Users/ruyutong/Desktop/generated_samples/6A9IBFSVYwY_6.27_7.43_bad_mute.mp4\"\n",
      "Processing videos: 100%|██████████████████████████████████████████████| 2/2 [00:51<00:00, 25.97s/it]"
     ]
    },
    {
     "name": "stdout",
     "output_type": "stream",
     "text": [
      "Finished processing: -_9pg2ryrx4\n",
      "✅ All videos processed!\n"
     ]
    },
    {
     "name": "stderr",
     "output_type": "stream",
     "text": [
      "\n"
     ]
    },
    {
     "name": "stderr",
     "output_type": "stream",
     "text": [
      "OpenCV: Couldn't read video stream from file \"/Users/ruyutong/Desktop/generated_samples/763fHsgOFso_3.93_10.00_bad_time_shift.mp4\"\n",
      "OpenCV: Couldn't read video stream from file \"/Users/ruyutong/Desktop/generated_samples/14wPUIldY6M_6.42_7.44_bad_mute.mp4\"\n",
      "OpenCV: Couldn't read video stream from file \"/Users/ruyutong/Desktop/generated_samples/210bCIjptRI_2.73_5.06_bad_time_shift.mp4\"\n",
      "OpenCV: Couldn't read video stream from file \"/Users/ruyutong/Desktop/generated_samples/-wGAzd51XRE_8.52_10.00_bad_mute.mp4\"\n",
      "OpenCV: Couldn't read video stream from file \"/Users/ruyutong/Desktop/generated_samples/4MaM8LiTnKI_5.42_8.00_bad_mute.mp4\"\n",
      "OpenCV: Couldn't read video stream from file \"/Users/ruyutong/Desktop/generated_samples/6L6A0CxinL8_8.00_9.00_bad_mute.mp4\"\n",
      "OpenCV: Couldn't read video stream from file \"/Users/ruyutong/Desktop/generated_samples/4ur5pqQkYGU_4.00_5.37_bad_time_shift.mp4\"\n",
      "OpenCV: Couldn't read video stream from file \"/Users/ruyutong/Desktop/generated_samples/Ip9JKi2ffg8_8.95_10.00_bad_distort.mp4\"\n",
      "OpenCV: Couldn't read video stream from file \"/Users/ruyutong/Desktop/generated_samples/BJr6qF5aEKs_7.77_8.77_bad_mute.mp4\"\n",
      "OpenCV: Couldn't read video stream from file \"/Users/ruyutong/Desktop/generated_samples/13XPDhrHoo0_0.00_6.45_bad_mute.mp4\"\n",
      "OpenCV: Couldn't read video stream from file \"/Users/ruyutong/Desktop/generated_samples/Qfw8LylVSfc_3.36_5.70_bad_mute.mp4\"\n",
      "OpenCV: Couldn't read video stream from file \"/Users/ruyutong/Desktop/generated_samples/1hZV-4QbK38_8.96_10.00_bad_mute.mp4\"\n",
      "OpenCV: Couldn't read video stream from file \"/Users/ruyutong/Desktop/generated_samples/0f_iTO5t3hU_6.48_7.96_bad_time_shift.mp4\"\n",
      "OpenCV: Couldn't read video stream from file \"/Users/ruyutong/Desktop/generated_samples/0bStICC7mUI_7.95_10.00_bad_mute.mp4\"\n",
      "OpenCV: Couldn't read video stream from file \"/Users/ruyutong/Desktop/generated_samples/65lcpTDdpDs_4.00_5.23_bad_mute.mp4\"\n",
      "OpenCV: Couldn't read video stream from file \"/Users/ruyutong/Desktop/generated_samples/--HuBNHXu9I_0.00_5.72_bad_mute.mp4\"\n",
      "OpenCV: Couldn't read video stream from file \"/Users/ruyutong/Desktop/generated_samples/-OanzatsuDY_4.68_8.01_bad_mute.mp4\"\n",
      "OpenCV: Couldn't read video stream from file \"/Users/ruyutong/Desktop/generated_samples/1Bov3GgLoY4_0.00_4.02_bad_mute.mp4\"\n",
      "OpenCV: Couldn't read video stream from file \"/Users/ruyutong/Desktop/generated_samples/0q2YcrI6NvQ_3.89_5.00_bad_mute.mp4\"\n",
      "OpenCV: Couldn't read video stream from file \"/Users/ruyutong/Desktop/generated_samples/-iTivTyfpDM_5.34_7.00_bad_time_shift.mp4\"\n",
      "OpenCV: Couldn't read video stream from file \"/Users/ruyutong/Desktop/generated_samples/0QKj8bSma1g_5.82_6.97_bad_time_shift.mp4\"\n",
      "OpenCV: Couldn't read video stream from file \"/Users/ruyutong/Desktop/generated_samples/1luaGhGRQXc_8.69_10.00_bad_time_shift.mp4\"\n",
      "OpenCV: Couldn't read video stream from file \"/Users/ruyutong/Desktop/generated_samples/AtzjFy0J8Pw_8.50_10.00_bad_time_shift.mp4\"\n",
      "OpenCV: Couldn't read video stream from file \"/Users/ruyutong/Desktop/generated_samples/4m4aH1ZE9gI_8.93_10.00_bad_distort.mp4\"\n",
      "OpenCV: Couldn't read video stream from file \"/Users/ruyutong/Desktop/generated_samples/3VoGCV4JJCk_0.00_2.00_bad_mute.mp4\"\n",
      "OpenCV: Couldn't read video stream from file \"/Users/ruyutong/Desktop/generated_samples/1cmo1SGxJnc_4.65_7.74_bad_time_shift.mp4\"\n",
      "OpenCV: Couldn't read video stream from file \"/Users/ruyutong/Desktop/generated_samples/0_wopBSgNhc_0.00_5.85_bad_mute.mp4\"\n",
      "OpenCV: Couldn't read video stream from file \"/Users/ruyutong/Desktop/generated_samples/2DqzoD3m_9o_3.05_4.86_bad_time_shift.mp4\"\n",
      "OpenCV: Couldn't read video stream from file \"/Users/ruyutong/Desktop/generated_samples/4c0uLxgFiVc_3.46_5.28_bad_time_shift.mp4\"\n",
      "OpenCV: Couldn't read video stream from file \"/Users/ruyutong/Desktop/generated_samples/-5xBW8BNKnE_8.81_10.00_bad_distort.mp4\"\n",
      "OpenCV: Couldn't read video stream from file \"/Users/ruyutong/Desktop/generated_samples/-Ggoa1lqzRg_0.00_1.96_bad_mute.mp4\"\n",
      "OpenCV: Couldn't read video stream from file \"/Users/ruyutong/Desktop/generated_samples/0qOweC3BsE0_0.00_1.98_bad_mute.mp4\"\n",
      "OpenCV: Couldn't read video stream from file \"/Users/ruyutong/Desktop/generated_samples/0fB1C972a9s_7.61_10.00_bad_distort.mp4\"\n",
      "OpenCV: Couldn't read video stream from file \"/Users/ruyutong/Desktop/generated_samples/-8-kuOPyPmA_5.33_8.00_bad_time_shift.mp4\"\n",
      "OpenCV: Couldn't read video stream from file \"/Users/ruyutong/Desktop/generated_samples/2DsqCMYTVOQ_8.47_10.00_bad_distort.mp4\"\n",
      "OpenCV: Couldn't read video stream from file \"/Users/ruyutong/Desktop/generated_samples/-1B3CzpiW1M_6.95_8.40_bad_time_shift.mp4\"\n",
      "OpenCV: Couldn't read video stream from file \"/Users/ruyutong/Desktop/generated_samples/76mwPlRcZ5k_0.00_4.53_bad_mute.mp4\"\n",
      "OpenCV: Couldn't read video stream from file \"/Users/ruyutong/Desktop/generated_samples/0imJ78XfnRo_0.00_5.29_bad_mute.mp4\"\n",
      "OpenCV: Couldn't read video stream from file \"/Users/ruyutong/Desktop/generated_samples/53BIo9Alu2o_7.54_8.57_bad_distort.mp4\"\n",
      "OpenCV: Couldn't read video stream from file \"/Users/ruyutong/Desktop/generated_samples/0SOdIMG2J0A_3.32_6.13_bad_mute.mp4\"\n",
      "OpenCV: Couldn't read video stream from file \"/Users/ruyutong/Desktop/generated_samples/-5kRgp_lxpk_8.44_10.00_bad_distort.mp4\"\n",
      "OpenCV: Couldn't read video stream from file \"/Users/ruyutong/Desktop/generated_samples/26-HMlPhve4_6.78_8.14_bad_time_shift.mp4\"\n",
      "OpenCV: Couldn't read video stream from file \"/Users/ruyutong/Desktop/generated_samples/0ZJehw_Ug-g_4.50_5.69_bad_time_shift.mp4\"\n",
      "OpenCV: Couldn't read video stream from file \"/Users/ruyutong/Desktop/generated_samples/-7OYJe6ioao_8.25_10.00_bad_distort.mp4\"\n",
      "OpenCV: Couldn't read video stream from file \"/Users/ruyutong/Desktop/generated_samples/OaMdMAq68hY_5.31_7.82_bad_time_shift.mp4\"\n",
      "OpenCV: Couldn't read video stream from file \"/Users/ruyutong/Desktop/generated_samples/-qzbB9LVew4_8.71_10.00_bad_mute.mp4\"\n",
      "OpenCV: Couldn't read video stream from file \"/Users/ruyutong/Desktop/generated_samples/6U7HcpVhQ1A_5.23_6.56_bad_mute.mp4\"\n",
      "OpenCV: Couldn't read video stream from file \"/Users/ruyutong/Desktop/generated_samples/-OdAfi6xZWM_8.88_10.00_bad_distort.mp4\"\n",
      "OpenCV: Couldn't read video stream from file \"/Users/ruyutong/Desktop/generated_samples/0Am7X758-Ek_9.00_10.00_bad_time_shift.mp4\"\n",
      "OpenCV: Couldn't read video stream from file \"/Users/ruyutong/Desktop/generated_samples/-yby37u00N4_4.33_7.30_bad_time_shift.mp4\"\n",
      "OpenCV: Couldn't read video stream from file \"/Users/ruyutong/Desktop/generated_samples/0wDHmbmKG3g_7.82_8.93_bad_distort.mp4\"\n",
      "OpenCV: Couldn't read video stream from file \"/Users/ruyutong/Desktop/generated_samples/0JNJup0MbiM_2.00_3.04_bad_time_shift.mp4\"\n",
      "OpenCV: Couldn't read video stream from file \"/Users/ruyutong/Desktop/generated_samples/-9Icd-D57Yo_8.44_10.00_bad_time_shift.mp4\"\n",
      "OpenCV: Couldn't read video stream from file \"/Users/ruyutong/Desktop/generated_samples/dU2n2OJ-K7Q_8.90_10.00_bad_time_shift.mp4\"\n",
      "OpenCV: Couldn't read video stream from file \"/Users/ruyutong/Desktop/generated_samples/5pac-XjDskw_9.00_10.00_bad_distort.mp4\"\n",
      "OpenCV: Couldn't read video stream from file \"/Users/ruyutong/Desktop/generated_samples/-AVRvAlbRIg_2.92_6.15_bad_mute.mp4\"\n",
      "OpenCV: Couldn't read video stream from file \"/Users/ruyutong/Desktop/generated_samples/2rubMZze1XQ_6.00_7.93_bad_time_shift.mp4\"\n"
     ]
    }
   ],
   "source": [
    "from feature_extraction import batch_process\n",
    "\n",
    "# === SETTINGS ===\n",
    "dataset_dir = \"D:\\lenovo\\mia_final_project\\AVE_Dataset\\AVE\"\n",
    "\n",
    "output_dir = \"D:\\lenovo\\mia_final_project\\Visual-Audio-Alignment\\data_samples\"\n",
    "\n",
    "batch_process(\n",
    "    dataset_dir=dataset_dir,\n",
    "    output_dir=output_dir,\n",
    "    max_workers=6\n",
    ")\n",
    "print(\"✅ All videos processed!\")\n"
   ]
  },
  {
   "cell_type": "code",
   "execution_count": null,
   "id": "1d926066",
   "metadata": {},
   "outputs": [],
   "source": []
  }
 ],
 "metadata": {
  "kernelspec": {
   "display_name": "Python 3",
   "language": "python",
   "name": "python3"
  },
  "language_info": {
   "codemirror_mode": {
    "name": "ipython",
    "version": 3
   },
   "file_extension": ".py",
   "mimetype": "text/x-python",
   "name": "python",
   "nbconvert_exporter": "python",
   "pygments_lexer": "ipython3",
   "version": "3.12.6"
  }
 },
 "nbformat": 4,
 "nbformat_minor": 5
}
