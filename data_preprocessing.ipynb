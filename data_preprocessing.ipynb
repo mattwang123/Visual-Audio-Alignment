{
 "cells": [
  {
   "cell_type": "code",
   "execution_count": 1,
   "metadata": {},
   "outputs": [],
   "source": [
    "import pandas as pd"
   ]
  },
  {
   "cell_type": "code",
   "execution_count": 2,
   "metadata": {},
   "outputs": [
    {
     "name": "stdout",
     "output_type": "stream",
     "text": [
      "      Category      VideoID Quality  StartTime  EndTime\n",
      "0  Church bell  RUhOCu3LNXM    good        0.0     10.0\n",
      "1  Church bell  MH3m4AwEcRY    good        6.0      8.0\n",
      "2  Church bell  2An2JMGMbbs    good        0.0     10.0\n",
      "3  Church bell  WM5R44UMLq0    good        0.0     10.0\n",
      "4  Church bell  5wHd0VafUAA    good        0.0     10.0\n"
     ]
    }
   ],
   "source": [
    "# Initialize a list to store the parsed data\n",
    "annotations = []\n",
    "\n",
    "# Read the file line by line\n",
    "with open('data_samples/dataset info/Annotations.txt', 'r') as file:\n",
    "    # Skip the header line\n",
    "    next(file)\n",
    "    for line in file:\n",
    "        # Split the line into components\n",
    "        parts = line.strip().split('&')\n",
    "        if len(parts) == 5:  # Ensure the line has all 5 fields\n",
    "            category, video_id, quality, start_time, end_time = parts\n",
    "            annotations.append({\n",
    "                'Category': category,\n",
    "                'VideoID': video_id,\n",
    "                'Quality': quality,\n",
    "                'StartTime': float(start_time),\n",
    "                'EndTime': float(end_time)\n",
    "            })\n",
    "\n",
    "# Convert the list of dictionaries into a DataFrame\n",
    "df = pd.DataFrame(annotations)\n",
    "\n",
    "print(df.head())"
   ]
  },
  {
   "cell_type": "code",
   "execution_count": 3,
   "metadata": {},
   "outputs": [
    {
     "name": "stdout",
     "output_type": "stream",
     "text": [
      "Unique Quality Values: ['good']\n"
     ]
    }
   ],
   "source": [
    "unique_qualities = df['Quality'].unique()\n",
    "print(\"Unique Quality Values:\", unique_qualities)"
   ]
  },
  {
   "cell_type": "code",
   "execution_count": 5,
   "metadata": {},
   "outputs": [],
   "source": [
    "def preprocess_annotations(input_file: str, output_csv: str) -> None:\n",
    "    \"\"\"\n",
    "    Parse the AVE dataset annotations file and save as a CSV.\n",
    "    \n",
    "    Args:\n",
    "        input_file (str): Path to the input `annotations.txt` file.\n",
    "        output_csv (str): Path to save the output CSV file.\n",
    "    \"\"\"\n",
    "    # Initialize a list to store parsed data\n",
    "    annotations = []\n",
    "    \n",
    "    # Read and parse the file\n",
    "    with open(input_file, 'r') as file:\n",
    "        # Skip the header line\n",
    "        next(file)\n",
    "        \n",
    "        for line in file:\n",
    "            # Split each line into components\n",
    "            parts = line.strip().split('&')\n",
    "            \n",
    "            # Ensure the line has all 5 fields\n",
    "            if len(parts) == 5:\n",
    "                category, video_id, quality, start_time, end_time = parts\n",
    "                \n",
    "                # Calculate duration (optional)\n",
    "                duration = float(end_time) - float(start_time)\n",
    "                \n",
    "                # Store parsed data\n",
    "                annotations.append({\n",
    "                    'Category': category,\n",
    "                    'VideoID': video_id,\n",
    "                    'Quality': quality,\n",
    "                    'StartTime': float(start_time),\n",
    "                    'EndTime': float(end_time),\n",
    "                    'Duration': duration  # Optional field\n",
    "                })\n",
    "    \n",
    "    # Convert to DataFrame\n",
    "    df = pd.DataFrame(annotations)\n",
    "    \n",
    "    # Save to CSV\n",
    "    df.to_csv(output_csv, index=False)\n",
    "    print(f\"Preprocessed data saved to: {output_csv}\")"
   ]
  },
  {
   "cell_type": "code",
   "execution_count": 6,
   "metadata": {},
   "outputs": [
    {
     "name": "stdout",
     "output_type": "stream",
     "text": [
      "Preprocessed data saved to: ave_annotations_preprocessed.csv\n"
     ]
    }
   ],
   "source": [
    "input_file = \"data_samples/dataset info/Annotations.txt\"  \n",
    "output_csv = \"ave_annotations_preprocessed.csv\"  # Output CSV path\n",
    "preprocess_annotations(input_file, output_csv)\n"
   ]
  }
 ],
 "metadata": {
  "kernelspec": {
   "display_name": "Python 3",
   "language": "python",
   "name": "python3"
  },
  "language_info": {
   "codemirror_mode": {
    "name": "ipython",
    "version": 3
   },
   "file_extension": ".py",
   "mimetype": "text/x-python",
   "name": "python",
   "nbconvert_exporter": "python",
   "pygments_lexer": "ipython3",
   "version": "3.12.8"
  }
 },
 "nbformat": 4,
 "nbformat_minor": 2
}
